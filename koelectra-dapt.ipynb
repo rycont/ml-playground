{
 "cells": [
  {
   "cell_type": "code",
   "execution_count": 2,
   "id": "338158e8-7722-4a09-91c1-b03010786b59",
   "metadata": {},
   "outputs": [
    {
     "name": "stdout",
     "output_type": "stream",
     "text": [
      "Collecting simpletransformers\n",
      "  Using cached simpletransformers-0.63.3-py3-none-any.whl (247 kB)\n",
      "Collecting seqeval\n",
      "  Using cached seqeval-1.2.2-py3-none-any.whl\n",
      "Requirement already satisfied: numpy in /home/studio-lab-user/.conda/envs/default/lib/python3.9/site-packages (from simpletransformers) (1.21.4)\n",
      "Requirement already satisfied: regex in /home/studio-lab-user/.conda/envs/default/lib/python3.9/site-packages (from simpletransformers) (2021.11.10)\n",
      "Requirement already satisfied: tokenizers in /home/studio-lab-user/.conda/envs/default/lib/python3.9/site-packages (from simpletransformers) (0.10.3)\n",
      "Requirement already satisfied: sentencepiece in /home/studio-lab-user/.conda/envs/default/lib/python3.9/site-packages (from simpletransformers) (0.1.96)\n",
      "Requirement already satisfied: scikit-learn in /home/studio-lab-user/.conda/envs/default/lib/python3.9/site-packages (from simpletransformers) (1.0.1)\n",
      "Collecting tensorboard\n",
      "  Using cached tensorboard-2.7.0-py3-none-any.whl (5.8 MB)\n",
      "Requirement already satisfied: datasets in /home/studio-lab-user/.conda/envs/default/lib/python3.9/site-packages (from simpletransformers) (1.16.1)\n",
      "Collecting wandb>=0.10.32\n",
      "  Downloading wandb-0.12.9-py2.py3-none-any.whl (1.7 MB)\n",
      "\u001b[K     |████████████████████████████████| 1.7 MB 3.2 MB/s eta 0:00:01\n",
      "\u001b[?25hRequirement already satisfied: pandas in /home/studio-lab-user/.conda/envs/default/lib/python3.9/site-packages (from simpletransformers) (1.3.5)\n",
      "Requirement already satisfied: tqdm>=4.47.0 in /home/studio-lab-user/.conda/envs/default/lib/python3.9/site-packages (from simpletransformers) (4.62.3)\n",
      "Requirement already satisfied: scipy in /home/studio-lab-user/.conda/envs/default/lib/python3.9/site-packages (from simpletransformers) (1.7.3)\n",
      "Requirement already satisfied: transformers>=4.6.0 in /home/studio-lab-user/.conda/envs/default/lib/python3.9/site-packages (from simpletransformers) (4.14.1)\n",
      "Collecting streamlit\n",
      "  Downloading streamlit-1.3.0-py2.py3-none-any.whl (9.2 MB)\n",
      "\u001b[K     |████████████████████████████████| 9.2 MB 10.9 MB/s eta 0:00:01\n",
      "\u001b[?25hRequirement already satisfied: requests in /home/studio-lab-user/.conda/envs/default/lib/python3.9/site-packages (from simpletransformers) (2.26.0)\n",
      "Requirement already satisfied: pyyaml>=5.1 in /home/studio-lab-user/.conda/envs/default/lib/python3.9/site-packages (from transformers>=4.6.0->simpletransformers) (6.0)\n",
      "Requirement already satisfied: filelock in /home/studio-lab-user/.conda/envs/default/lib/python3.9/site-packages (from transformers>=4.6.0->simpletransformers) (3.4.0)\n",
      "Requirement already satisfied: huggingface-hub<1.0,>=0.1.0 in /home/studio-lab-user/.conda/envs/default/lib/python3.9/site-packages (from transformers>=4.6.0->simpletransformers) (0.2.1)\n",
      "Requirement already satisfied: sacremoses in /home/studio-lab-user/.conda/envs/default/lib/python3.9/site-packages (from transformers>=4.6.0->simpletransformers) (0.0.46)\n",
      "Requirement already satisfied: packaging>=20.0 in /home/studio-lab-user/.conda/envs/default/lib/python3.9/site-packages (from transformers>=4.6.0->simpletransformers) (21.3)\n",
      "Requirement already satisfied: typing-extensions>=3.7.4.3 in /home/studio-lab-user/.conda/envs/default/lib/python3.9/site-packages (from huggingface-hub<1.0,>=0.1.0->transformers>=4.6.0->simpletransformers) (4.0.1)\n",
      "Requirement already satisfied: pyparsing!=3.0.5,>=2.0.2 in /home/studio-lab-user/.conda/envs/default/lib/python3.9/site-packages (from packaging>=20.0->transformers>=4.6.0->simpletransformers) (3.0.6)\n",
      "Requirement already satisfied: Click!=8.0.0,>=7.0 in /home/studio-lab-user/.conda/envs/default/lib/python3.9/site-packages (from wandb>=0.10.32->simpletransformers) (8.0.3)\n",
      "Requirement already satisfied: python-dateutil>=2.6.1 in /home/studio-lab-user/.conda/envs/default/lib/python3.9/site-packages (from wandb>=0.10.32->simpletransformers) (2.8.2)\n",
      "Collecting docker-pycreds>=0.4.0\n",
      "  Using cached docker_pycreds-0.4.0-py2.py3-none-any.whl (9.0 kB)\n",
      "Requirement already satisfied: psutil>=5.0.0 in /home/studio-lab-user/.conda/envs/default/lib/python3.9/site-packages (from wandb>=0.10.32->simpletransformers) (5.8.0)\n",
      "Collecting shortuuid>=0.5.0\n",
      "  Using cached shortuuid-1.0.8-py3-none-any.whl (9.5 kB)\n",
      "Requirement already satisfied: six>=1.13.0 in /home/studio-lab-user/.conda/envs/default/lib/python3.9/site-packages (from wandb>=0.10.32->simpletransformers) (1.16.0)\n",
      "Collecting configparser>=3.8.1\n",
      "  Using cached configparser-5.2.0-py3-none-any.whl (19 kB)\n",
      "Collecting pathtools\n",
      "  Using cached pathtools-0.1.2-py3-none-any.whl\n",
      "Collecting sentry-sdk>=1.0.0\n",
      "  Using cached sentry_sdk-1.5.1-py2.py3-none-any.whl (140 kB)\n",
      "Requirement already satisfied: protobuf>=3.12.0 in /home/studio-lab-user/.conda/envs/default/lib/python3.9/site-packages (from wandb>=0.10.32->simpletransformers) (3.19.1)\n",
      "Collecting promise<3,>=2.0\n",
      "  Using cached promise-2.3-py3-none-any.whl\n",
      "Collecting subprocess32>=3.5.3\n",
      "  Using cached subprocess32-3.5.4-py3-none-any.whl\n",
      "Collecting GitPython>=1.0.0\n",
      "  Using cached GitPython-3.1.24-py3-none-any.whl (180 kB)\n",
      "Collecting yaspin>=1.0.0\n",
      "  Using cached yaspin-2.1.0-py3-none-any.whl (18 kB)\n",
      "Collecting gitdb<5,>=4.0.1\n",
      "  Using cached gitdb-4.0.9-py3-none-any.whl (63 kB)\n",
      "Requirement already satisfied: smmap<6,>=3.0.1 in /home/studio-lab-user/.conda/envs/default/lib/python3.9/site-packages (from gitdb<5,>=4.0.1->GitPython>=1.0.0->wandb>=0.10.32->simpletransformers) (5.0.0)\n",
      "Requirement already satisfied: certifi>=2017.4.17 in /home/studio-lab-user/.conda/envs/default/lib/python3.9/site-packages (from requests->simpletransformers) (2021.10.8)\n",
      "Requirement already satisfied: urllib3<1.27,>=1.21.1 in /home/studio-lab-user/.conda/envs/default/lib/python3.9/site-packages (from requests->simpletransformers) (1.26.7)\n",
      "Requirement already satisfied: idna<4,>=2.5 in /home/studio-lab-user/.conda/envs/default/lib/python3.9/site-packages (from requests->simpletransformers) (3.3)\n",
      "Requirement already satisfied: charset-normalizer~=2.0.0 in /home/studio-lab-user/.conda/envs/default/lib/python3.9/site-packages (from requests->simpletransformers) (2.0.9)\n",
      "Collecting termcolor<2.0.0,>=1.1.0\n",
      "  Using cached termcolor-1.1.0-py3-none-any.whl\n",
      "Requirement already satisfied: pyarrow!=4.0.0,>=3.0.0 in /home/studio-lab-user/.conda/envs/default/lib/python3.9/site-packages (from datasets->simpletransformers) (6.0.1)\n",
      "Requirement already satisfied: dill in /home/studio-lab-user/.conda/envs/default/lib/python3.9/site-packages (from datasets->simpletransformers) (0.3.4)\n",
      "Requirement already satisfied: xxhash in /home/studio-lab-user/.conda/envs/default/lib/python3.9/site-packages (from datasets->simpletransformers) (2.0.2)\n",
      "Requirement already satisfied: fsspec[http]>=2021.05.0 in /home/studio-lab-user/.conda/envs/default/lib/python3.9/site-packages (from datasets->simpletransformers) (2021.11.1)\n",
      "Requirement already satisfied: aiohttp in /home/studio-lab-user/.conda/envs/default/lib/python3.9/site-packages (from datasets->simpletransformers) (3.8.1)\n",
      "Requirement already satisfied: multiprocess in /home/studio-lab-user/.conda/envs/default/lib/python3.9/site-packages (from datasets->simpletransformers) (0.70.12.2)\n",
      "Requirement already satisfied: multidict<7.0,>=4.5 in /home/studio-lab-user/.conda/envs/default/lib/python3.9/site-packages (from aiohttp->datasets->simpletransformers) (5.2.0)\n",
      "Requirement already satisfied: attrs>=17.3.0 in /home/studio-lab-user/.conda/envs/default/lib/python3.9/site-packages (from aiohttp->datasets->simpletransformers) (21.2.0)\n",
      "Requirement already satisfied: frozenlist>=1.1.1 in /home/studio-lab-user/.conda/envs/default/lib/python3.9/site-packages (from aiohttp->datasets->simpletransformers) (1.2.0)\n",
      "Requirement already satisfied: aiosignal>=1.1.2 in /home/studio-lab-user/.conda/envs/default/lib/python3.9/site-packages (from aiohttp->datasets->simpletransformers) (1.2.0)\n",
      "Requirement already satisfied: yarl<2.0,>=1.0 in /home/studio-lab-user/.conda/envs/default/lib/python3.9/site-packages (from aiohttp->datasets->simpletransformers) (1.7.2)\n",
      "Requirement already satisfied: async-timeout<5.0,>=4.0.0a3 in /home/studio-lab-user/.conda/envs/default/lib/python3.9/site-packages (from aiohttp->datasets->simpletransformers) (4.0.1)\n",
      "Requirement already satisfied: pytz>=2017.3 in /home/studio-lab-user/.conda/envs/default/lib/python3.9/site-packages (from pandas->simpletransformers) (2021.3)\n",
      "Requirement already satisfied: joblib in /home/studio-lab-user/.conda/envs/default/lib/python3.9/site-packages (from sacremoses->transformers>=4.6.0->simpletransformers) (1.1.0)\n",
      "Requirement already satisfied: threadpoolctl>=2.0.0 in /home/studio-lab-user/.conda/envs/default/lib/python3.9/site-packages (from scikit-learn->simpletransformers) (3.0.0)\n",
      "Collecting Click!=8.0.0,>=7.0\n",
      "  Using cached click-7.1.2-py2.py3-none-any.whl (82 kB)\n",
      "Collecting pympler>=0.9\n",
      "  Using cached Pympler-0.9-py3-none-any.whl\n",
      "Collecting altair>=3.2.0\n",
      "  Using cached altair-4.1.0-py3-none-any.whl (727 kB)\n",
      "Collecting cachetools>=4.0\n",
      "  Using cached cachetools-4.2.4-py3-none-any.whl (10 kB)\n",
      "Collecting pydeck>=0.1.dev5\n",
      "  Using cached pydeck-0.7.1-py2.py3-none-any.whl (4.3 MB)\n",
      "Collecting tzlocal\n",
      "  Using cached tzlocal-4.1-py3-none-any.whl (19 kB)\n",
      "Collecting blinker\n",
      "  Using cached blinker-1.4-py3-none-any.whl\n",
      "Requirement already satisfied: tornado>=5.0 in /home/studio-lab-user/.conda/envs/default/lib/python3.9/site-packages (from streamlit->simpletransformers) (6.1)\n",
      "Collecting validators\n",
      "  Using cached validators-0.18.2-py3-none-any.whl (19 kB)\n",
      "Collecting watchdog\n",
      "  Using cached watchdog-2.1.6-py3-none-manylinux2014_x86_64.whl (76 kB)\n",
      "Collecting pillow>=6.2.0\n",
      "  Using cached Pillow-8.4.0-cp39-cp39-manylinux_2_17_x86_64.manylinux2014_x86_64.whl (3.1 MB)\n",
      "Collecting toml\n",
      "  Using cached toml-0.10.2-py2.py3-none-any.whl (16 kB)\n",
      "Collecting base58\n",
      "  Using cached base58-2.1.1-py3-none-any.whl (5.6 kB)\n",
      "Collecting astor\n",
      "  Using cached astor-0.8.1-py2.py3-none-any.whl (27 kB)\n",
      "Requirement already satisfied: entrypoints in /home/studio-lab-user/.conda/envs/default/lib/python3.9/site-packages (from altair>=3.2.0->streamlit->simpletransformers) (0.3)\n",
      "Requirement already satisfied: jsonschema in /home/studio-lab-user/.conda/envs/default/lib/python3.9/site-packages (from altair>=3.2.0->streamlit->simpletransformers) (4.2.1)\n",
      "Requirement already satisfied: jinja2 in /home/studio-lab-user/.conda/envs/default/lib/python3.9/site-packages (from altair>=3.2.0->streamlit->simpletransformers) (3.0.3)\n",
      "Collecting toolz\n",
      "  Using cached toolz-0.11.2-py3-none-any.whl (55 kB)\n",
      "Requirement already satisfied: ipykernel>=5.1.2 in /home/studio-lab-user/.conda/envs/default/lib/python3.9/site-packages (from pydeck>=0.1.dev5->streamlit->simpletransformers) (6.4.2)\n",
      "Requirement already satisfied: traitlets>=4.3.2 in /home/studio-lab-user/.conda/envs/default/lib/python3.9/site-packages (from pydeck>=0.1.dev5->streamlit->simpletransformers) (5.1.1)\n",
      "Requirement already satisfied: ipywidgets>=7.0.0 in /home/studio-lab-user/.conda/envs/default/lib/python3.9/site-packages (from pydeck>=0.1.dev5->streamlit->simpletransformers) (7.6.5)\n",
      "Requirement already satisfied: jupyter-client<8.0 in /home/studio-lab-user/.conda/envs/default/lib/python3.9/site-packages (from ipykernel>=5.1.2->pydeck>=0.1.dev5->streamlit->simpletransformers) (7.1.0)\n",
      "Requirement already satisfied: matplotlib-inline<0.2.0,>=0.1.0 in /home/studio-lab-user/.conda/envs/default/lib/python3.9/site-packages (from ipykernel>=5.1.2->pydeck>=0.1.dev5->streamlit->simpletransformers) (0.1.3)\n",
      "Requirement already satisfied: debugpy<2.0,>=1.0.0 in /home/studio-lab-user/.conda/envs/default/lib/python3.9/site-packages (from ipykernel>=5.1.2->pydeck>=0.1.dev5->streamlit->simpletransformers) (1.5.1)\n",
      "Requirement already satisfied: ipython<8.0,>=7.23.1 in /home/studio-lab-user/.conda/envs/default/lib/python3.9/site-packages (from ipykernel>=5.1.2->pydeck>=0.1.dev5->streamlit->simpletransformers) (7.29.0)\n",
      "Requirement already satisfied: ipython-genutils in /home/studio-lab-user/.conda/envs/default/lib/python3.9/site-packages (from ipykernel>=5.1.2->pydeck>=0.1.dev5->streamlit->simpletransformers) (0.2.0)\n",
      "Requirement already satisfied: jedi>=0.16 in /home/studio-lab-user/.conda/envs/default/lib/python3.9/site-packages (from ipython<8.0,>=7.23.1->ipykernel>=5.1.2->pydeck>=0.1.dev5->streamlit->simpletransformers) (0.18.1)\n",
      "Requirement already satisfied: backcall in /home/studio-lab-user/.conda/envs/default/lib/python3.9/site-packages (from ipython<8.0,>=7.23.1->ipykernel>=5.1.2->pydeck>=0.1.dev5->streamlit->simpletransformers) (0.2.0)\n",
      "Requirement already satisfied: pickleshare in /home/studio-lab-user/.conda/envs/default/lib/python3.9/site-packages (from ipython<8.0,>=7.23.1->ipykernel>=5.1.2->pydeck>=0.1.dev5->streamlit->simpletransformers) (0.7.5)\n",
      "Requirement already satisfied: pexpect>4.3 in /home/studio-lab-user/.conda/envs/default/lib/python3.9/site-packages (from ipython<8.0,>=7.23.1->ipykernel>=5.1.2->pydeck>=0.1.dev5->streamlit->simpletransformers) (4.8.0)\n",
      "Requirement already satisfied: decorator in /home/studio-lab-user/.conda/envs/default/lib/python3.9/site-packages (from ipython<8.0,>=7.23.1->ipykernel>=5.1.2->pydeck>=0.1.dev5->streamlit->simpletransformers) (5.1.0)\n",
      "Requirement already satisfied: prompt-toolkit!=3.0.0,!=3.0.1,<3.1.0,>=2.0.0 in /home/studio-lab-user/.conda/envs/default/lib/python3.9/site-packages (from ipython<8.0,>=7.23.1->ipykernel>=5.1.2->pydeck>=0.1.dev5->streamlit->simpletransformers) (3.0.22)\n",
      "Requirement already satisfied: setuptools>=18.5 in /home/studio-lab-user/.conda/envs/default/lib/python3.9/site-packages (from ipython<8.0,>=7.23.1->ipykernel>=5.1.2->pydeck>=0.1.dev5->streamlit->simpletransformers) (59.2.0)\n",
      "Requirement already satisfied: pygments in /home/studio-lab-user/.conda/envs/default/lib/python3.9/site-packages (from ipython<8.0,>=7.23.1->ipykernel>=5.1.2->pydeck>=0.1.dev5->streamlit->simpletransformers) (2.10.0)\n",
      "Requirement already satisfied: widgetsnbextension~=3.5.0 in /home/studio-lab-user/.conda/envs/default/lib/python3.9/site-packages (from ipywidgets>=7.0.0->pydeck>=0.1.dev5->streamlit->simpletransformers) (3.5.2)\n",
      "Requirement already satisfied: jupyterlab-widgets>=1.0.0 in /home/studio-lab-user/.conda/envs/default/lib/python3.9/site-packages (from ipywidgets>=7.0.0->pydeck>=0.1.dev5->streamlit->simpletransformers) (1.0.2)\n",
      "Requirement already satisfied: nbformat>=4.2.0 in /home/studio-lab-user/.conda/envs/default/lib/python3.9/site-packages (from ipywidgets>=7.0.0->pydeck>=0.1.dev5->streamlit->simpletransformers) (5.1.3)\n",
      "Requirement already satisfied: parso<0.9.0,>=0.8.0 in /home/studio-lab-user/.conda/envs/default/lib/python3.9/site-packages (from jedi>=0.16->ipython<8.0,>=7.23.1->ipykernel>=5.1.2->pydeck>=0.1.dev5->streamlit->simpletransformers) (0.8.2)\n",
      "Requirement already satisfied: MarkupSafe>=2.0 in /home/studio-lab-user/.conda/envs/default/lib/python3.9/site-packages (from jinja2->altair>=3.2.0->streamlit->simpletransformers) (2.0.1)\n",
      "Requirement already satisfied: jupyter-core>=4.6.0 in /home/studio-lab-user/.conda/envs/default/lib/python3.9/site-packages (from jupyter-client<8.0->ipykernel>=5.1.2->pydeck>=0.1.dev5->streamlit->simpletransformers) (4.9.1)\n",
      "Requirement already satisfied: pyzmq>=13 in /home/studio-lab-user/.conda/envs/default/lib/python3.9/site-packages (from jupyter-client<8.0->ipykernel>=5.1.2->pydeck>=0.1.dev5->streamlit->simpletransformers) (22.3.0)\n",
      "Requirement already satisfied: nest-asyncio>=1.5 in /home/studio-lab-user/.conda/envs/default/lib/python3.9/site-packages (from jupyter-client<8.0->ipykernel>=5.1.2->pydeck>=0.1.dev5->streamlit->simpletransformers) (1.5.1)\n",
      "Requirement already satisfied: pyrsistent!=0.17.0,!=0.17.1,!=0.17.2,>=0.14.0 in /home/studio-lab-user/.conda/envs/default/lib/python3.9/site-packages (from jsonschema->altair>=3.2.0->streamlit->simpletransformers) (0.18.0)\n",
      "Requirement already satisfied: ptyprocess>=0.5 in /home/studio-lab-user/.conda/envs/default/lib/python3.9/site-packages (from pexpect>4.3->ipython<8.0,>=7.23.1->ipykernel>=5.1.2->pydeck>=0.1.dev5->streamlit->simpletransformers) (0.7.0)\n",
      "Requirement already satisfied: wcwidth in /home/studio-lab-user/.conda/envs/default/lib/python3.9/site-packages (from prompt-toolkit!=3.0.0,!=3.0.1,<3.1.0,>=2.0.0->ipython<8.0,>=7.23.1->ipykernel>=5.1.2->pydeck>=0.1.dev5->streamlit->simpletransformers) (0.2.5)\n",
      "Requirement already satisfied: notebook>=4.4.1 in /home/studio-lab-user/.conda/envs/default/lib/python3.9/site-packages (from widgetsnbextension~=3.5.0->ipywidgets>=7.0.0->pydeck>=0.1.dev5->streamlit->simpletransformers) (6.4.6)\n",
      "Requirement already satisfied: Send2Trash>=1.8.0 in /home/studio-lab-user/.conda/envs/default/lib/python3.9/site-packages (from notebook>=4.4.1->widgetsnbextension~=3.5.0->ipywidgets>=7.0.0->pydeck>=0.1.dev5->streamlit->simpletransformers) (1.8.0)\n",
      "Requirement already satisfied: nbconvert in /home/studio-lab-user/.conda/envs/default/lib/python3.9/site-packages (from notebook>=4.4.1->widgetsnbextension~=3.5.0->ipywidgets>=7.0.0->pydeck>=0.1.dev5->streamlit->simpletransformers) (6.3.0)\n",
      "Requirement already satisfied: argon2-cffi in /home/studio-lab-user/.conda/envs/default/lib/python3.9/site-packages (from notebook>=4.4.1->widgetsnbextension~=3.5.0->ipywidgets>=7.0.0->pydeck>=0.1.dev5->streamlit->simpletransformers) (21.1.0)\n",
      "Requirement already satisfied: terminado>=0.8.3 in /home/studio-lab-user/.conda/envs/default/lib/python3.9/site-packages (from notebook>=4.4.1->widgetsnbextension~=3.5.0->ipywidgets>=7.0.0->pydeck>=0.1.dev5->streamlit->simpletransformers) (0.12.1)\n",
      "Requirement already satisfied: prometheus-client in /home/studio-lab-user/.conda/envs/default/lib/python3.9/site-packages (from notebook>=4.4.1->widgetsnbextension~=3.5.0->ipywidgets>=7.0.0->pydeck>=0.1.dev5->streamlit->simpletransformers) (0.12.0)\n",
      "Requirement already satisfied: cffi>=1.0.0 in /home/studio-lab-user/.conda/envs/default/lib/python3.9/site-packages (from argon2-cffi->notebook>=4.4.1->widgetsnbextension~=3.5.0->ipywidgets>=7.0.0->pydeck>=0.1.dev5->streamlit->simpletransformers) (1.15.0)\n",
      "Requirement already satisfied: pycparser in /home/studio-lab-user/.conda/envs/default/lib/python3.9/site-packages (from cffi>=1.0.0->argon2-cffi->notebook>=4.4.1->widgetsnbextension~=3.5.0->ipywidgets>=7.0.0->pydeck>=0.1.dev5->streamlit->simpletransformers) (2.21)\n",
      "Requirement already satisfied: defusedxml in /home/studio-lab-user/.conda/envs/default/lib/python3.9/site-packages (from nbconvert->notebook>=4.4.1->widgetsnbextension~=3.5.0->ipywidgets>=7.0.0->pydeck>=0.1.dev5->streamlit->simpletransformers) (0.7.1)\n",
      "Requirement already satisfied: pandocfilters>=1.4.1 in /home/studio-lab-user/.conda/envs/default/lib/python3.9/site-packages (from nbconvert->notebook>=4.4.1->widgetsnbextension~=3.5.0->ipywidgets>=7.0.0->pydeck>=0.1.dev5->streamlit->simpletransformers) (1.5.0)\n",
      "Requirement already satisfied: mistune<2,>=0.8.1 in /home/studio-lab-user/.conda/envs/default/lib/python3.9/site-packages (from nbconvert->notebook>=4.4.1->widgetsnbextension~=3.5.0->ipywidgets>=7.0.0->pydeck>=0.1.dev5->streamlit->simpletransformers) (0.8.4)\n",
      "Requirement already satisfied: jupyterlab-pygments in /home/studio-lab-user/.conda/envs/default/lib/python3.9/site-packages (from nbconvert->notebook>=4.4.1->widgetsnbextension~=3.5.0->ipywidgets>=7.0.0->pydeck>=0.1.dev5->streamlit->simpletransformers) (0.1.2)\n",
      "Requirement already satisfied: bleach in /home/studio-lab-user/.conda/envs/default/lib/python3.9/site-packages (from nbconvert->notebook>=4.4.1->widgetsnbextension~=3.5.0->ipywidgets>=7.0.0->pydeck>=0.1.dev5->streamlit->simpletransformers) (4.1.0)\n",
      "Requirement already satisfied: testpath in /home/studio-lab-user/.conda/envs/default/lib/python3.9/site-packages (from nbconvert->notebook>=4.4.1->widgetsnbextension~=3.5.0->ipywidgets>=7.0.0->pydeck>=0.1.dev5->streamlit->simpletransformers) (0.5.0)\n",
      "Requirement already satisfied: nbclient<0.6.0,>=0.5.0 in /home/studio-lab-user/.conda/envs/default/lib/python3.9/site-packages (from nbconvert->notebook>=4.4.1->widgetsnbextension~=3.5.0->ipywidgets>=7.0.0->pydeck>=0.1.dev5->streamlit->simpletransformers) (0.5.9)\n",
      "Requirement already satisfied: webencodings in /home/studio-lab-user/.conda/envs/default/lib/python3.9/site-packages (from bleach->nbconvert->notebook>=4.4.1->widgetsnbextension~=3.5.0->ipywidgets>=7.0.0->pydeck>=0.1.dev5->streamlit->simpletransformers) (0.5.1)\n",
      "Collecting werkzeug>=0.11.15\n",
      "  Using cached Werkzeug-2.0.2-py3-none-any.whl (288 kB)\n",
      "Collecting grpcio>=1.24.3\n",
      "  Downloading grpcio-1.43.0-cp39-cp39-manylinux_2_17_x86_64.manylinux2014_x86_64.whl (4.1 MB)\n",
      "\u001b[K     |████████████████████████████████| 4.1 MB 86.6 MB/s eta 0:00:01\n",
      "\u001b[?25hCollecting markdown>=2.6.8\n",
      "  Using cached Markdown-3.3.6-py3-none-any.whl (97 kB)\n",
      "Collecting tensorboard-data-server<0.7.0,>=0.6.0\n",
      "  Using cached tensorboard_data_server-0.6.1-py3-none-manylinux2010_x86_64.whl (4.9 MB)\n",
      "Collecting absl-py>=0.4\n",
      "  Using cached absl_py-1.0.0-py3-none-any.whl (126 kB)\n",
      "Collecting tensorboard-plugin-wit>=1.6.0\n",
      "  Using cached tensorboard_plugin_wit-1.8.0-py3-none-any.whl (781 kB)\n",
      "Collecting google-auth<3,>=1.6.3\n",
      "  Using cached google_auth-2.3.3-py2.py3-none-any.whl (155 kB)\n",
      "Collecting google-auth-oauthlib<0.5,>=0.4.1\n",
      "  Using cached google_auth_oauthlib-0.4.6-py2.py3-none-any.whl (18 kB)\n",
      "Requirement already satisfied: wheel>=0.26 in /home/studio-lab-user/.conda/envs/default/lib/python3.9/site-packages (from tensorboard->simpletransformers) (0.37.0)\n",
      "Requirement already satisfied: rsa<5,>=3.1.4 in /home/studio-lab-user/.conda/envs/default/lib/python3.9/site-packages (from google-auth<3,>=1.6.3->tensorboard->simpletransformers) (4.8)\n",
      "Requirement already satisfied: pyasn1-modules>=0.2.1 in /home/studio-lab-user/.conda/envs/default/lib/python3.9/site-packages (from google-auth<3,>=1.6.3->tensorboard->simpletransformers) (0.2.8)\n",
      "Collecting requests-oauthlib>=0.7.0\n",
      "  Using cached requests_oauthlib-1.3.0-py2.py3-none-any.whl (23 kB)\n",
      "Requirement already satisfied: importlib-metadata>=4.4 in /home/studio-lab-user/.conda/envs/default/lib/python3.9/site-packages (from markdown>=2.6.8->tensorboard->simpletransformers) (4.8.2)\n",
      "Requirement already satisfied: zipp>=0.5 in /home/studio-lab-user/.conda/envs/default/lib/python3.9/site-packages (from importlib-metadata>=4.4->markdown>=2.6.8->tensorboard->simpletransformers) (3.6.0)\n",
      "Requirement already satisfied: pyasn1<0.5.0,>=0.4.6 in /home/studio-lab-user/.conda/envs/default/lib/python3.9/site-packages (from pyasn1-modules>=0.2.1->google-auth<3,>=1.6.3->tensorboard->simpletransformers) (0.4.8)\n",
      "Requirement already satisfied: oauthlib>=3.0.0 in /home/studio-lab-user/.conda/envs/default/lib/python3.9/site-packages (from requests-oauthlib>=0.7.0->google-auth-oauthlib<0.5,>=0.4.1->tensorboard->simpletransformers) (3.1.1)\n",
      "Collecting pytz-deprecation-shim\n",
      "  Using cached pytz_deprecation_shim-0.1.0.post0-py2.py3-none-any.whl (15 kB)\n",
      "Requirement already satisfied: tzdata in /home/studio-lab-user/.conda/envs/default/lib/python3.9/site-packages (from pytz-deprecation-shim->tzlocal->streamlit->simpletransformers) (2021.5)\n",
      "Installing collected packages: cachetools, toolz, termcolor, requests-oauthlib, pytz-deprecation-shim, google-auth, gitdb, Click, yaspin, werkzeug, watchdog, validators, tzlocal, toml, tensorboard-plugin-wit, tensorboard-data-server, subprocess32, shortuuid, sentry-sdk, pympler, pydeck, promise, pillow, pathtools, markdown, grpcio, google-auth-oauthlib, GitPython, docker-pycreds, configparser, blinker, base58, astor, altair, absl-py, wandb, tensorboard, streamlit, seqeval, simpletransformers\n",
      "  Attempting uninstall: Click\n",
      "    Found existing installation: click 8.0.3\n",
      "    Uninstalling click-8.0.3:\n",
      "      Successfully uninstalled click-8.0.3\n",
      "Successfully installed Click-7.1.2 GitPython-3.1.24 absl-py-1.0.0 altair-4.1.0 astor-0.8.1 base58-2.1.1 blinker-1.4 cachetools-4.2.4 configparser-5.2.0 docker-pycreds-0.4.0 gitdb-4.0.9 google-auth-2.3.3 google-auth-oauthlib-0.4.6 grpcio-1.43.0 markdown-3.3.6 pathtools-0.1.2 pillow-8.4.0 promise-2.3 pydeck-0.7.1 pympler-0.9 pytz-deprecation-shim-0.1.0.post0 requests-oauthlib-1.3.0 sentry-sdk-1.5.1 seqeval-1.2.2 shortuuid-1.0.8 simpletransformers-0.63.3 streamlit-1.3.0 subprocess32-3.5.4 tensorboard-2.7.0 tensorboard-data-server-0.6.1 tensorboard-plugin-wit-1.8.0 termcolor-1.1.0 toml-0.10.2 toolz-0.11.2 tzlocal-4.1 validators-0.18.2 wandb-0.12.9 watchdog-2.1.6 werkzeug-2.0.2 yaspin-2.1.0\n",
      "Note: you may need to restart the kernel to use updated packages.\n"
     ]
    }
   ],
   "source": [
    "pip install simpletransformers"
   ]
  },
  {
   "cell_type": "code",
   "execution_count": 5,
   "id": "17af3b5e-a3e2-4b26-9001-94060b80c48c",
   "metadata": {},
   "outputs": [],
   "source": [
    "from simpletransformers.language_modeling import LanguageModelingModel"
   ]
  },
  {
   "cell_type": "code",
   "execution_count": 71,
   "id": "949333c1-4319-41e5-9d1a-f07c3f2bd441",
   "metadata": {},
   "outputs": [],
   "source": [
    "dapt_model = LanguageModelingModel(\n",
    "    \"electra\",\n",
    "    model_name=\"electra\",\n",
    "    generator_name=\"monologg/koelectra-base-v3-generator\",\n",
    "    discriminator_name=\"monologg/koelectra-base-v3-discriminator\",\n",
    "    train_files=\"./safe_corpus.txt\"\n",
    ")"
   ]
  },
  {
   "cell_type": "code",
   "execution_count": 73,
   "id": "e132f36a-e009-4c34-9a08-9e0e6be7f3d3",
   "metadata": {},
   "outputs": [
    {
     "data": {
      "application/vnd.jupyter.widget-view+json": {
       "model_id": "66f4e88c963f4eb8bcceb15fd2e12845",
       "version_major": 2,
       "version_minor": 0
      },
      "text/plain": [
       "  0%|          | 0/181375 [00:00<?, ?it/s]"
      ]
     },
     "metadata": {},
     "output_type": "display_data"
    },
    {
     "name": "stderr",
     "output_type": "stream",
     "text": [
      "Token indices sequence length is longer than the specified maximum sequence length for this model (1224 > 512). Running this sequence through the model will result in indexing errors\n",
      "Token indices sequence length is longer than the specified maximum sequence length for this model (875 > 512). Running this sequence through the model will result in indexing errors\n",
      "Token indices sequence length is longer than the specified maximum sequence length for this model (1824 > 512). Running this sequence through the model will result in indexing errors\n",
      "Token indices sequence length is longer than the specified maximum sequence length for this model (13746 > 512). Running this sequence through the model will result in indexing errors\n"
     ]
    },
    {
     "data": {
      "application/vnd.jupyter.widget-view+json": {
       "model_id": "0e67c14e1c054f63a40dbc9b4de606b7",
       "version_major": 2,
       "version_minor": 0
      },
      "text/plain": [
       "  0%|          | 0/59270 [00:00<?, ?it/s]"
      ]
     },
     "metadata": {},
     "output_type": "display_data"
    },
    {
     "data": {
      "application/vnd.jupyter.widget-view+json": {
       "model_id": "fe0f8850399e4cb4a42bb237a04ae333",
       "version_major": 2,
       "version_minor": 0
      },
      "text/plain": [
       "Epoch:   0%|          | 0/1 [00:00<?, ?it/s]"
      ]
     },
     "metadata": {},
     "output_type": "display_data"
    },
    {
     "data": {
      "application/vnd.jupyter.widget-view+json": {
       "model_id": "8afd84cc748346edbd40980291a58dbf",
       "version_major": 2,
       "version_minor": 0
      },
      "text/plain": [
       "Running Epoch 0 of 1:   0%|          | 0/7409 [00:00<?, ?it/s]"
      ]
     },
     "metadata": {},
     "output_type": "display_data"
    },
    {
     "data": {
      "text/plain": [
       "(7409, 11.214380621282594)"
      ]
     },
     "execution_count": 73,
     "metadata": {},
     "output_type": "execute_result"
    }
   ],
   "source": [
    "dapt_model.train_model(\n",
    "    train_file=\"./safe_corpus.txt\"\n",
    ")"
   ]
  },
  {
   "cell_type": "code",
   "execution_count": 74,
   "id": "c115c87d-34fc-4077-b93e-276cbfaf7b75",
   "metadata": {},
   "outputs": [],
   "source": [
    "dapt_model.save_generator(\"./KoHistELECTRA_GEN\")\n",
    "dapt_model.save_discriminator(\"./KoHistELECTRA_DISC\")"
   ]
  },
  {
   "cell_type": "code",
   "execution_count": 2,
   "id": "40e4fccc-1495-4cdc-adeb-1f7d9c385eea",
   "metadata": {},
   "outputs": [],
   "source": [
    "from transformers import ElectraModel, ElectraTokenizer, pipeline, ElectraForMaskedLM\n",
    "import torch"
   ]
  },
  {
   "cell_type": "code",
   "execution_count": 3,
   "id": "86ef983f-9ddd-4161-b044-80e954b33bbe",
   "metadata": {},
   "outputs": [],
   "source": [
    "electra_model = ElectraForMaskedLM.from_pretrained(\"./KoHistELECTRA\")\n",
    "tokenizer = ElectraTokenizer.from_pretrained(\"./KoHistELECTRA\")"
   ]
  },
  {
   "cell_type": "code",
   "execution_count": 4,
   "id": "415356aa-5ee1-4fba-b276-40feec375e5e",
   "metadata": {},
   "outputs": [],
   "source": [
    "tokens = tokenizer(\"The capital of France is [MASK].\", return_tensors=\"pt\")\n",
    "output = electra_model(\n",
    "    **tokens\n",
    ")"
   ]
  },
  {
   "cell_type": "code",
   "execution_count": 5,
   "id": "19c92364-3139-481b-b6ba-c90168a2a86e",
   "metadata": {},
   "outputs": [],
   "source": [
    "# tokenizer.decode(output.logits[0][1])"
   ]
  },
  {
   "cell_type": "code",
   "execution_count": 6,
   "id": "3ac3de82-f05e-4de1-b3ba-e07b84812336",
   "metadata": {},
   "outputs": [],
   "source": [
    "fill_mask = pipeline(\n",
    "    \"fill-mask\",\n",
    "    model=electra_model,\n",
    "    tokenizer=tokenizer\n",
    ")"
   ]
  },
  {
   "cell_type": "code",
   "execution_count": 7,
   "id": "6156f88d-e624-4302-8632-4c90e5103485",
   "metadata": {},
   "outputs": [
    {
     "data": {
      "text/plain": [
       "{'score': 0.09763669222593307,\n",
       " 'token': 7133,\n",
       " 'token_str': '박 근 혜',\n",
       " 'sequence': '대한민국에서 첫 번째로 탄핵당한 대통령은 박근혜 이다.'}"
      ]
     },
     "execution_count": 7,
     "metadata": {},
     "output_type": "execute_result"
    }
   ],
   "source": [
    "fill_mask(f\"대한민국에서 첫 번째로 탄핵당한 대통령은 {tokenizer.mask_token}이다.\")[0]"
   ]
  },
  {
   "cell_type": "code",
   "execution_count": 8,
   "id": "af067352-63b1-43cd-85c8-eba1a01c203e",
   "metadata": {},
   "outputs": [
    {
     "data": {
      "text/plain": [
       "{'score': 0.08660202473402023,\n",
       " 'token': 11337,\n",
       " 'token_str': '박 정 희',\n",
       " 'sequence': '봉화마을에서 태어난 대통령은 박정희 이다.'}"
      ]
     },
     "execution_count": 8,
     "metadata": {},
     "output_type": "execute_result"
    }
   ],
   "source": [
    "fill_mask(f\"봉화마을에서 태어난 대통령은 {tokenizer.mask_token}이다.\")[0]"
   ]
  },
  {
   "cell_type": "code",
   "execution_count": 9,
   "id": "671dafdf-3b51-422d-ae66-47767091fe22",
   "metadata": {},
   "outputs": [
    {
     "data": {
      "text/plain": [
       "{'score': 0.3406160771846771,\n",
       " 'token': 4073,\n",
       " 'token_str': '# # 에',\n",
       " 'sequence': '박정희는 1976년 10월 26일에 당했다'}"
      ]
     },
     "execution_count": 9,
     "metadata": {},
     "output_type": "execute_result"
    }
   ],
   "source": [
    "fill_mask(f\"박정희는 1976년 10월 26일 {tokenizer.mask_token}당했다\")[0]"
   ]
  },
  {
   "cell_type": "code",
   "execution_count": 10,
   "id": "52392a4a-8bfd-4f50-a456-b1143ae20e60",
   "metadata": {},
   "outputs": [
    {
     "data": {
      "text/plain": [
       "{'score': 0.061843566596508026,\n",
       " 'token': 11688,\n",
       " 'token_str': '원 조',\n",
       " 'sequence': '1997년 정부는 IMF에 원조 를 요청했다'}"
      ]
     },
     "execution_count": 10,
     "metadata": {},
     "output_type": "execute_result"
    }
   ],
   "source": [
    "fill_mask(f\"1997년 정부는 IMF에 {tokenizer.mask_token}를 요청했다\")[0]"
   ]
  },
  {
   "cell_type": "code",
   "execution_count": 11,
   "id": "006b8119-10de-4af8-ab99-2787cf9ad961",
   "metadata": {},
   "outputs": [
    {
     "data": {
      "text/plain": [
       "{'score': 0.022628584876656532,\n",
       " 'token': 7450,\n",
       " 'token_str': '인 생',\n",
       " 'sequence': '정약용은 인생 을 설계했다'}"
      ]
     },
     "execution_count": 11,
     "metadata": {},
     "output_type": "execute_result"
    }
   ],
   "source": [
    "fill_mask(f\"정약용은 {tokenizer.mask_token}을 설계했다\")[0]"
   ]
  },
  {
   "cell_type": "code",
   "execution_count": 12,
   "id": "b83bab98-70a2-420d-a408-1b61d2138d38",
   "metadata": {},
   "outputs": [
    {
     "data": {
      "text/plain": [
       "{'score': 0.3192511200904846,\n",
       " 'token': 8665,\n",
       " 'token_str': '미 군',\n",
       " 'sequence': '1945 한반도가 일제로부터 독립하고 북에는 소련군이, 남에는 미군 이 주둔했다'}"
      ]
     },
     "execution_count": 12,
     "metadata": {},
     "output_type": "execute_result"
    }
   ],
   "source": [
    "fill_mask(f\"1945 한반도가 일제로부터 독립하고 북에는 소련군이, 남에는 {tokenizer.mask_token}이 주둔했다\")[0]"
   ]
  },
  {
   "cell_type": "code",
   "execution_count": 13,
   "id": "57d297ae-ae27-48be-bf4c-d2c26e4ba8d5",
   "metadata": {},
   "outputs": [
    {
     "data": {
      "text/plain": [
       "{'score': 0.033699553459882736,\n",
       " 'token': 10121,\n",
       " 'token_str': '1 9 9 5',\n",
       " 'sequence': '신종플루는 1995 년에 대한민국에서 대유행하였다.'}"
      ]
     },
     "execution_count": 13,
     "metadata": {},
     "output_type": "execute_result"
    }
   ],
   "source": [
    "fill_mask(f\"신종플루는 {tokenizer.mask_token}년에 대한민국에서 대유행하였다.\")[0]"
   ]
  },
  {
   "cell_type": "code",
   "execution_count": 14,
   "id": "79ce4a38-9171-4bdb-9ac7-3e4ee414cbe4",
   "metadata": {},
   "outputs": [
    {
     "data": {
      "text/plain": [
       "{'score': 0.1782388687133789,\n",
       " 'token': 7001,\n",
       " 'token_str': '대 한 민 국',\n",
       " 'sequence': '2002 월드컵 우승국은 대한민국 이다.'}"
      ]
     },
     "execution_count": 14,
     "metadata": {},
     "output_type": "execute_result"
    }
   ],
   "source": [
    "fill_mask(f\"2002 월드컵 우승국은 {tokenizer.mask_token}이다.\")[0]"
   ]
  },
  {
   "cell_type": "code",
   "execution_count": 15,
   "id": "0d76359b-dd4e-405a-b7f7-816b0189ced4",
   "metadata": {},
   "outputs": [
    {
     "data": {
      "text/plain": [
       "{'score': 0.05079173669219017,\n",
       " 'token': 20191,\n",
       " 'token_str': '단 군',\n",
       " 'sequence': '조선을 건국한 사람은 단군 이다'}"
      ]
     },
     "execution_count": 15,
     "metadata": {},
     "output_type": "execute_result"
    }
   ],
   "source": [
    "fill_mask(f\"조선을 건국한 사람은 {tokenizer.mask_token}이다\")[0]"
   ]
  },
  {
   "cell_type": "code",
   "execution_count": 16,
   "id": "810ab3a5-4858-4b3f-8b8d-b50a88ff724d",
   "metadata": {},
   "outputs": [
    {
     "data": {
      "text/plain": [
       "{'score': 0.16155141592025757,\n",
       " 'token': 20191,\n",
       " 'token_str': '단 군',\n",
       " 'sequence': '고조선을 건국한 사람은 단군 이다'}"
      ]
     },
     "execution_count": 16,
     "metadata": {},
     "output_type": "execute_result"
    }
   ],
   "source": [
    "fill_mask(f\"고조선을 건국한 사람은 {tokenizer.mask_token}이다\")[0]"
   ]
  },
  {
   "cell_type": "code",
   "execution_count": 17,
   "id": "74df44fe-9369-4912-b176-2b98da9da36a",
   "metadata": {},
   "outputs": [
    {
     "data": {
      "text/plain": [
       "{'score': 0.1390540897846222,\n",
       " 'token': 29015,\n",
       " 'token_str': '왕 건',\n",
       " 'sequence': '1392년 왕건 을 건국한 사람은 이성계이다'}"
      ]
     },
     "execution_count": 17,
     "metadata": {},
     "output_type": "execute_result"
    }
   ],
   "source": [
    "fill_mask(f\"1392년 {tokenizer.mask_token}을 건국한 사람은 이성계이다\")[0]"
   ]
  },
  {
   "cell_type": "code",
   "execution_count": 18,
   "id": "389d0e56-b25d-40d0-9577-689a15d865a3",
   "metadata": {},
   "outputs": [
    {
     "data": {
      "text/plain": [
       "['[CLS]', '남조선', '##노동', '##당', '[SEP]']"
      ]
     },
     "execution_count": 18,
     "metadata": {},
     "output_type": "execute_result"
    }
   ],
   "source": [
    "# fill_mask(f\"건준 {tokenizer.mask_token}을 건국한 사람은 이성계이다\")[0]\n",
    "[tokenizer.decode([token]) for token in tokenizer(\"남조선노동당\").input_ids]"
   ]
  },
  {
   "cell_type": "code",
   "execution_count": 19,
   "id": "af6b7b1e-979f-48d4-9fb4-1200487edcfe",
   "metadata": {},
   "outputs": [
    {
     "data": {
      "text/plain": [
       "['[CLS]', '조선', '##공산', '##당', '##재', '##건', '##준', '##비', '##위원회', '[SEP]']"
      ]
     },
     "execution_count": 19,
     "metadata": {},
     "output_type": "execute_result"
    }
   ],
   "source": [
    "[tokenizer.decode([token]) for token in tokenizer(\"조선공산당재건준비위원회\").input_ids]"
   ]
  },
  {
   "cell_type": "code",
   "execution_count": 21,
   "id": "4a264755-10f1-4078-8258-04cba19b4b0e",
   "metadata": {},
   "outputs": [
    {
     "data": {
      "text/plain": [
       "'[CLS] / 이 / ##들 / ##은 / 전통 / ##적 / 조선 / ##공산 / ##당 / ##이 / 1928 / ##년 / 12 / ##월 / 코 / ##민 / ##테 / ##른 / ##의 / 지령 / ##으로 / 해체 / ##되 / ##고 / 재건 / ##단 / ##계 / ##에 / 들어간 / 이래 / 그 / ##를 / 실현 / ##하 / ##지 / 못 / ##했 / ##기 / 때문 / ##에 / , / 8 / · / 15 / ##광 / ##복 / ##의 / 합법 / ##사회 / ##가 / 도래 / ##하 / ##였 / ##다고 / 하 / ##더라 / ##도 / 몇몇 / 사람 / ##들 / ##만 / ##의 / 회 / ##합 / ##으로 / 별 / ##안 / ##간 / ##에 / 조선 / ##공산 / ##당 / 결성 / ##을 / 끝 / ##낼 / 것 / ##이 / 아니 / ##라 / , / 일정 / ##한 / 당 / ##재 / ##건 / ##준 / ##비 / ##기 / ##간 / ##을 / 두고 / 국내외 / ##의 / 동지 / ##들 / ##을 / 규합 / ##하여 / 정식 / ##으로 / 당 / 건설 / ##에 / 착수 / ##하 / ##는 / 것 / ##이 / 옳 / ##다고 / 주장 / ##하 / ##였 / ##다 / . / [SEP]'"
      ]
     },
     "execution_count": 21,
     "metadata": {},
     "output_type": "execute_result"
    }
   ],
   "source": [
    "\" / \".join([tokenizer.decode([token]) for token in tokenizer(\"이들은 전통적 조선공산당이 1928년 12월 코민테른의 지령으로 해체되고 재건단계에 들어간 이래 그를 실현하지 못했기 때문에, 8·15광복의 합법사회가 도래하였다고 하더라도 몇몇 사람들만의 회합으로 별안간에 조선공산당 결성을 끝낼 것이 아니라, 일정한 당재건준비기간을 두고 국내외의 동지들을 규합하여 정식으로 당 건설에 착수하는 것이 옳다고 주장하였다.\").input_ids])"
   ]
  },
  {
   "cell_type": "code",
   "execution_count": null,
   "id": "086edc02-0ef9-49fd-a0b1-63e9219e7b55",
   "metadata": {},
   "outputs": [],
   "source": []
  }
 ],
 "metadata": {
  "kernelspec": {
   "display_name": "default:Python",
   "language": "python",
   "name": "conda-env-default-py"
  },
  "language_info": {
   "codemirror_mode": {
    "name": "ipython",
    "version": 3
   },
   "file_extension": ".py",
   "mimetype": "text/x-python",
   "name": "python",
   "nbconvert_exporter": "python",
   "pygments_lexer": "ipython3",
   "version": "3.9.7"
  }
 },
 "nbformat": 4,
 "nbformat_minor": 5
}
