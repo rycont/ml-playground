{
 "cells": [
  {
   "cell_type": "code",
   "execution_count": 5,
   "id": "e2b58d71-1437-4094-b2b4-3240361f2f27",
   "metadata": {},
   "outputs": [],
   "source": [
    "from koming import tokenizer, model"
   ]
  },
  {
   "cell_type": "code",
   "execution_count": 64,
   "id": "0eb74986-97cd-4900-b9d5-4bcfe81dba44",
   "metadata": {},
   "outputs": [],
   "source": [
    "context = \"\"\"아래는 친구같은 척척박사 로봇 코밍과 학생의 대화입니다. 역사, 화학과 관련한 질문에 친절하게 답해줍니다.\n",
    "\n",
    "학생: 동학농민운동이 뭐야?\n",
    "코밍: 1894년에 일어난 동학농민운동은 반봉건, 반외세의 기치 아래 일어난 농민운동이야. 전봉준, 손화중, 김개남 등이 주도했어.\n",
    "\"\"\""
   ]
  },
  {
   "cell_type": "code",
   "execution_count": 12,
   "id": "138988c3-f74c-4a23-bd72-25f8d630f0a3",
   "metadata": {},
   "outputs": [],
   "source": [
    "import gc\n",
    "import torch"
   ]
  },
  {
   "cell_type": "code",
   "execution_count": 67,
   "id": "5aa530d7-b8b4-486c-8165-ddb37094db83",
   "metadata": {},
   "outputs": [],
   "source": [
    "def generator(prompt, origin_prompt):\n",
    "    tokens = tokenizer.encode(prompt, return_tensors='pt').to(device='cuda', non_blocking=True)\n",
    "    gen_tokens = model.generate(\n",
    "        tokens,\n",
    "        temperature=0.8,\n",
    "        max_length=len(tokens[0]) + 4,\n",
    "        num_beams=4\n",
    "    )\n",
    "    \n",
    "    generated = tokenizer.batch_decode(gen_tokens)[0]\n",
    "    if(len(generated[(len(origin_prompt) + 1):]) > 72):\n",
    "        return generated + \"...\"\n",
    "    \n",
    "    if generated[(len(origin_prompt) + 1):].find(\"학생: \") != -1:\n",
    "        return generated\n",
    "    \n",
    "    return generator(generated, origin_prompt)\n",
    "\n",
    "logs = []\n",
    "\n",
    "def getAnswer(question):\n",
    "    gc.collect()\n",
    "    torch.cuda.empty_cache()\n",
    "    \n",
    "    with torch.no_grad():\n",
    "        logs.append(\"학생: \" + question)\n",
    "        inputs = context + \"\\n\".join(logs[-2:]) + \"\\n코밍: \"\n",
    "        generated = generator(inputs, inputs)\n",
    "\n",
    "        say = generated[len(inputs):].split(\"학생: \")[0].strip().replace(\"코밍:\", \"\")\n",
    "        logs.append(\"코밍: \" + say)\n",
    "        return say"
   ]
  },
  {
   "cell_type": "code",
   "execution_count": 66,
   "id": "7e6d3f22-4837-4794-ae90-c6d0293c290b",
   "metadata": {},
   "outputs": [
    {
     "data": {
      "text/plain": [
       "'1894년에 일어난 동학농민운동은 반봉건, 반외세의 기치 아래 일어난 농민운동이야. 전봉준, 손화중, 김개남 등이 주도...'"
      ]
     },
     "execution_count": 66,
     "metadata": {},
     "output_type": "execute_result"
    }
   ],
   "source": [
    "getAnswer(\"동학농민운동이 뭐야?\")"
   ]
  },
  {
   "cell_type": "code",
   "execution_count": 57,
   "id": "d4b04d1b-2bd2-472b-9762-c1f249d9a57e",
   "metadata": {},
   "outputs": [
    {
     "data": {
      "text/plain": [
       "'전봉준, 손화중, 김개남 등이 주도했어.'"
      ]
     },
     "execution_count": 57,
     "metadata": {},
     "output_type": "execute_result"
    }
   ],
   "source": [
    "getAnswer(\"누가 주도했어?\")"
   ]
  },
  {
   "cell_type": "code",
   "execution_count": 58,
   "id": "bf503f1e-a9eb-4321-a98e-b5f3d7300231",
   "metadata": {},
   "outputs": [
    {
     "data": {
      "text/plain": [
       "'실패한 이유는 여러 가지가 있어.'"
      ]
     },
     "execution_count": 58,
     "metadata": {},
     "output_type": "execute_result"
    }
   ],
   "source": [
    "getAnswer(\"동학농민운동이 실패한 이유는 뭐야?\")"
   ]
  },
  {
   "cell_type": "code",
   "execution_count": 68,
   "id": "57824e40-8781-4e66-ae7f-1050a2348cae",
   "metadata": {},
   "outputs": [
    {
     "data": {
      "text/plain": [
       "'강화도조약은 1876년에 일본과 맺은 조약이야.'"
      ]
     },
     "execution_count": 68,
     "metadata": {},
     "output_type": "execute_result"
    }
   ],
   "source": [
    "getAnswer(\"강화도조약이 뭐야?\")"
   ]
  },
  {
   "cell_type": "code",
   "execution_count": 69,
   "id": "e40e0720-d6e0-4b56-a86d-11516b11d6f6",
   "metadata": {},
   "outputs": [
    {
     "data": {
      "text/plain": [
       "'강화도조약의 내용은 다음과 같아.'"
      ]
     },
     "execution_count": 69,
     "metadata": {},
     "output_type": "execute_result"
    }
   ],
   "source": [
    "getAnswer(\"강화도조약의 내용이 뭐야?\")"
   ]
  },
  {
   "cell_type": "code",
   "execution_count": 70,
   "id": "347609b1-da31-45d4-ba2e-18db6c9c9c45",
   "metadata": {},
   "outputs": [
    {
     "data": {
      "text/plain": [
       "'을사늑약은 일본이 우리나라의 외교권을 박탈하기 위해 강제로 체결한 조약이야.'"
      ]
     },
     "execution_count": 70,
     "metadata": {},
     "output_type": "execute_result"
    }
   ],
   "source": [
    "getAnswer(\"왜 을사조약은 을사늑약이라는 이름으로 불리지?\")"
   ]
  },
  {
   "cell_type": "code",
   "execution_count": 71,
   "id": "41cf8417-70c7-4a27-8bc0-4023d0a09e06",
   "metadata": {},
   "outputs": [
    {
     "data": {
      "text/plain": [
       "'사군자화는 매화, 난초, 국화, 대나무를 그린 그림이야.'"
      ]
     },
     "execution_count": 71,
     "metadata": {},
     "output_type": "execute_result"
    }
   ],
   "source": [
    "getAnswer(\"사군자화가 뭐야?\")"
   ]
  },
  {
   "cell_type": "code",
   "execution_count": 72,
   "id": "46f15086-33b2-4215-9b7c-02d3ffc6b062",
   "metadata": {},
   "outputs": [
    {
     "data": {
      "text/plain": [
       "'유교는 공자의 가르침을 따르는 학문이야.'"
      ]
     },
     "execution_count": 72,
     "metadata": {},
     "output_type": "execute_result"
    }
   ],
   "source": [
    "getAnswer(\"유교가 뭐야?\")"
   ]
  },
  {
   "cell_type": "code",
   "execution_count": 3,
   "id": "06bc3b72-3f29-4768-a6a9-5bf9f198f44d",
   "metadata": {},
   "outputs": [
    {
     "name": "stdout",
     "output_type": "stream",
     "text": [
      "simpletransformers==0.63.3\n",
      "transformers==4.14.1\n"
     ]
    }
   ],
   "source": [
    "!pip freeze | grep transformers"
   ]
  },
  {
   "cell_type": "code",
   "execution_count": 63,
   "id": "5b0bdeeb-3eed-45d5-b74c-f77b0e5791de",
   "metadata": {},
   "outputs": [
    {
     "name": "stdout",
     "output_type": "stream",
     "text": [
      "아래는 친구같은 척척박사 로봇 코밍과 학생의 대화입니다. 역사, 화학과 관련한 질문에 친절하게 답해줍니다.\n",
      "\n",
      "학생: 영웅소설이 뭐야?\n",
      "코밍: 주인공의 영웅적 일대기를 서사의 기본골격으로 하는 고전소설이야. 대표적인 작품으로는 유충렬전, 홍길동전, 전우치전 등이 있어.\n",
      "학생: 왜 을사조약은 을사늑약이라는 이름으로 불리지?\n",
      "코밍: 을사늑약은 일본이 우리나라의 외교권을 박탈하기 위해 강제로 체결한 조약이야.\n",
      "코밍: \n"
     ]
    }
   ],
   "source": [
    "print(context + \"\\n\".join(logs[-2:]) + \"\\n코밍: \")"
   ]
  },
  {
   "cell_type": "code",
   "execution_count": null,
   "id": "34ab5df8-8b62-43ae-bbee-54dd7007c837",
   "metadata": {},
   "outputs": [],
   "source": []
  }
 ],
 "metadata": {
  "kernelspec": {
   "display_name": "default:Python",
   "language": "python",
   "name": "conda-env-default-py"
  },
  "language_info": {
   "codemirror_mode": {
    "name": "ipython",
    "version": 3
   },
   "file_extension": ".py",
   "mimetype": "text/x-python",
   "name": "python",
   "nbconvert_exporter": "python",
   "pygments_lexer": "ipython3",
   "version": "3.9.7"
  }
 },
 "nbformat": 4,
 "nbformat_minor": 5
}
